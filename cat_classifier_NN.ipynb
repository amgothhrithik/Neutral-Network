{
  "cells": [
    {
      "cell_type": "markdown",
      "metadata": {
        "id": "view-in-github",
        "colab_type": "text"
      },
      "source": [
        "<a href=\"https://colab.research.google.com/github/amgothhrithik/Neutral-Network/blob/main/cat_classifier_NN.ipynb\" target=\"_parent\"><img src=\"https://colab.research.google.com/assets/colab-badge.svg\" alt=\"Open In Colab\"/></a>"
      ]
    },
    {
      "cell_type": "code",
      "execution_count": null,
      "metadata": {
        "colab": {
          "base_uri": "https://localhost:8080/"
        },
        "id": "KwvBS-zb75Ee",
        "outputId": "05a557ec-2384-46e1-dc16-247d18b3c065"
      },
      "outputs": [
        {
          "output_type": "stream",
          "name": "stdout",
          "text": [
            "Mounted at /content/drive\n"
          ]
        }
      ],
      "source": [
        "from google.colab import drive\n",
        "drive.mount('/content/drive')\n"
      ]
    },
    {
      "cell_type": "code",
      "execution_count": null,
      "metadata": {
        "id": "09cr2KVU7_sb"
      },
      "outputs": [],
      "source": [
        "# Load data\n",
        "#cat_classifier\n",
        "import numpy as np\n",
        "train_x = '/content/drive/My Drive/Data/cat/cat_train_x.csv'\n",
        "train_y = '/content/drive/My Drive/Data/cat/cat_train_y.csv'\n",
        "\n",
        "df1 = np.loadtxt(train_x,delimiter=\",\")/255.0 # Transpose directly\n",
        "df2 =  np.loadtxt(train_y,delimiter=\",\")"
      ]
    },
    {
      "cell_type": "code",
      "execution_count": null,
      "metadata": {
        "colab": {
          "base_uri": "https://localhost:8080/"
        },
        "id": "LlPdqr358snT",
        "outputId": "829de876-341c-4eb8-f1b9-14d40edd47ba"
      },
      "outputs": [
        {
          "output_type": "stream",
          "name": "stdout",
          "text": [
            "(12288, 50)\n",
            "(1, 50)\n"
          ]
        }
      ],
      "source": [
        "# Load test data\n",
        "test_x = '/content/drive/My Drive/Data/cat/cat_test_x.csv'\n",
        "test_y = '/content/drive/My Drive/Data/cat/cat_test_y.csv'\n",
        "\n",
        "X_test = np.loadtxt(test_x , delimiter = ',')/255.0\n",
        "Y_test = np.loadtxt(test_y, delimiter = ',').reshape(1, X_test.shape[1])\n",
        "\n",
        "print(X_test.shape)\n",
        "print(Y_test.shape)"
      ]
    },
    {
      "cell_type": "code",
      "execution_count": null,
      "metadata": {
        "colab": {
          "base_uri": "https://localhost:8080/"
        },
        "id": "jq4xAsHX8GmL",
        "outputId": "3bd8cf25-c592-42bd-9a82-177f5263cc88"
      },
      "outputs": [
        {
          "output_type": "stream",
          "name": "stdout",
          "text": [
            "shape of training set:X (12288, 209)\n",
            "shape of training set:Y (1, 209)\n"
          ]
        }
      ],
      "source": [
        "x=np.array(df1)\n",
        "m=x.shape[1]\n",
        "\n",
        "y =np.array(df2)\n",
        "y=y.reshape(1,m)\n",
        "index=np.random.permutation(x.shape[1])\n",
        "x=x[:,index]\n",
        "y=y[:,index]\n",
        "\n",
        "\n",
        "print(\"shape of training set:X\",x.shape)#(12288, 209)\n",
        "print(\"shape of training set:Y\",y.shape)#(1, 209)\n",
        "\n"
      ]
    },
    {
      "cell_type": "code",
      "execution_count": null,
      "metadata": {
        "colab": {
          "base_uri": "https://localhost:8080/",
          "height": 432
        },
        "id": "KOlVN4CR8Ojf",
        "outputId": "ab421c23-6883-4121-acdc-2892dcd8049b"
      },
      "outputs": [
        {
          "output_type": "display_data",
          "data": {
            "text/plain": [
              "<Figure size 640x480 with 1 Axes>"
            ],
            "image/png": "[encoded data removed]"
          },
          "metadata": {}
        }
      ],
      "source": [
        "import matplotlib.pyplot as plt\n",
        "plt.imshow(x[:, 5].reshape(64,64, 3))\n",
        "plt.show()"
      ]
    },
    {
      "cell_type": "code",
      "execution_count": null,
      "metadata": {
        "id": "2MhlCzMk8aUf"
      },
      "outputs": [],
      "source": [
        "# Activation functions\n",
        "def sigmoid(z):\n",
        "    # Apply clipping to avoid overflow in exp\n",
        "    z = np.clip(z, -500, 500)\n",
        "    return 1 / (1 + np.exp(-z))\n",
        "\n",
        "def relu(z):\n",
        "    return np.maximum(0, z)\n",
        "\n",
        "def relu_derivative(z):\n",
        "    return np.where(z > 0, 1, 0)\n",
        "\n",
        "def softmax(x):\n",
        "    x_exp = np.exp(x - np.max(x, axis=0, keepdims=True))\n",
        "    return x_exp / np.sum(x_exp, axis=0, keepdims=True)\n",
        "\n",
        "def ds(z):\n",
        "    return sigmoid(z) * (1 - sigmoid(z))\n",
        "\n",
        "def dr(z):\n",
        "    return relu_derivative(z)"
      ]
    },
    {
      "cell_type": "code",
      "execution_count": null,
      "metadata": {
        "colab": {
          "base_uri": "https://localhost:8080/",
          "height": 663
        },
        "id": "jsaigyAe8dSm",
        "outputId": "146fe13e-3ef1-41bb-f0d1-2da48a6ca258"
      },
      "outputs": [
        {
          "output_type": "stream",
          "name": "stdout",
          "text": [
            "Epoch 0, Loss: 0.7328, Train Acc: 0.43, Test Acc: 0.58\n",
            "Epoch 200, Loss: 0.5162, Train Acc: 0.79, Test Acc: 0.56\n",
            "Epoch 400, Loss: 0.4021, Train Acc: 0.89, Test Acc: 0.7\n",
            "Epoch 600, Loss: 0.3112, Train Acc: 0.92, Test Acc: 0.72\n",
            "Epoch 800, Loss: 0.2379, Train Acc: 0.96, Test Acc: 0.74\n",
            "Epoch 1000, Loss: 0.1761, Train Acc: 0.99, Test Acc: 0.7\n",
            "Epoch 1200, Loss: 0.1309, Train Acc: 0.99, Test Acc: 0.7\n",
            "Epoch 1400, Loss: 0.0998, Train Acc: 0.99, Test Acc: 0.72\n",
            "Epoch 1600, Loss: 0.0789, Train Acc: 0.99, Test Acc: 0.72\n",
            "Epoch 1800, Loss: 0.0623, Train Acc: 0.99, Test Acc: 0.72\n"
          ]
        },
        {
          "output_type": "display_data",
          "data": {
            "text/plain": [
              "<Figure size 640x480 with 1 Axes>"
            ],
            "image/png": "[encoded data removed]"
          },
          "metadata": {}
        },
        {
          "output_type": "stream",
          "name": "stdout",
          "text": [
            "0.72\n"
          ]
        }
      ],
      "source": [
        "#Initialization\n",
        "\n",
        "def parameter_initiation(layers):\n",
        "  parameters={}\n",
        "  for i in range(1,len(layers)):\n",
        "    parameters[f\"W{i}\"]=np.random.randn(layers[i], layers[i-1]) * np.sqrt(2/ layers[i-1])\n",
        "    parameters[f\"b{i}\"]=np.zeros((layers[i], 1))\n",
        "  return parameters\n",
        "\n",
        "\n",
        "def forwardprop(X,parameters,layers_len ):\n",
        "  cache={}\n",
        "  cache[f\"A{1}\"]=X\n",
        "  for i in range(1,layers_len):\n",
        "    W=parameters[f\"W{i}\"]\n",
        "    b=parameters[f\"b{i}\"]\n",
        "    A=cache[f\"A{i}\"]\n",
        "    Z=np.dot(W,A)+b\n",
        "    cache[f\"Z{i+1}\"]=Z\n",
        "    if i==layers_len-1:\n",
        "      A=sigmoid(Z)\n",
        "    else:\n",
        "      A=relu(Z)\n",
        "    cache[f\"A{i+1}\"]=A\n",
        "    #print(cache)\n",
        "  return cache\n",
        "\n",
        "\n",
        "def backprop(cache,parameters,layers_len,Y):\n",
        "  gradients={}\n",
        "  for i in reversed(range(2,layers_len+1)):\n",
        "    if i==layers_len:\n",
        "      dZ=cache[f\"A{i}\"]-Y\n",
        "    else:\n",
        "      dA=np.dot(parameters[f\"W{i}\"].T,dZ)\n",
        "      dZ=dA*relu_derivative(cache[f\"Z{i}\"])\n",
        "\n",
        "    dW=np.dot(dZ,cache[f\"A{i-1}\"].T)/m\n",
        "    db=np.sum(dZ,axis=1,keepdims=True)/m\n",
        "\n",
        "    gradients[f\"dW{i-1}\"]=dW\n",
        "    gradients[f\"db{i-1}\"]=db\n",
        "  return gradients\n",
        "\n",
        "def Update(parameters,gradients,lr):\n",
        "\n",
        "  for i in range(1,L+1):\n",
        "    parameters[f\"W{i}\"]=parameters[f\"W{i}\"]-lr*gradients[f\"dW{i}\"]\n",
        "    parameters[f\"b{i}\"]=parameters[f\"b{i}\"]-lr*gradients[f\"db{i}\"]\n",
        "  return parameters\n",
        "\n",
        "\n",
        "# Cost function (cross-entropy loss) with epsilon to avoid log(0) or log(1)\n",
        "def cost(Y_pred, Y, epsilon=1e-9):\n",
        "    Y_pred = np.clip(Y_pred, epsilon, 1 - epsilon)  # Ensures a is between epsilon and 1-epsilon\n",
        "    return -np.sum(Y * np.log(Y_pred) + (1 - Y) * np.log(1 - Y_pred)) / Y.shape[1]\n",
        "\n",
        "\n",
        "def model(X,Y,lr,epochs,layers):\n",
        "  parameters=parameter_initiation(layers)\n",
        "  layers_len=len(layers)\n",
        "  loss=[]\n",
        "  for epoch in range(epochs):\n",
        "    cache=forwardprop(X,parameters,layers_len)\n",
        "    Y_pred=cache[f\"A{layers_len}\"]\n",
        "    loss_epoch=cost(Y_pred, Y, epsilon=1e-9)\n",
        "    loss.append(loss_epoch)\n",
        "    grads=backprop(cache,parameters,layers_len,Y)\n",
        "    parameters=Update(parameters,grads,lr)\n",
        "    iter=epochs//10\n",
        "    if epoch % iter == 0:\n",
        "           #print(f\"Iteration {epoch}, Cost: {loss_epoch:.4f}\")\n",
        "            train_acc = predict(X, Y, parameters, layers_len)\n",
        "            test_acc = predict(X_test, Y_test, parameters, layers_len)\n",
        "            print(f\"Epoch {epoch}, Loss: {loss_epoch:.4f}, Train Acc: {train_acc}, Test Acc: {test_acc}\")\n",
        "  return parameters,loss\n",
        "\n",
        "\n",
        "\n",
        "def predict (X1,Y1,parameters,layers_len):\n",
        "  cache=forwardprop(X1,parameters,layers_len)\n",
        "  y1_pred=cache[f\"A{len(layers)}\"]\n",
        "  y1_pred=np.where(y1_pred>0.5,1,0)\n",
        "  acc=np.sum(Y1==y1_pred)/Y1.shape[1]\n",
        "  return np.round(acc,2)\n",
        "\n",
        "\n",
        "layers=[x.shape[0], 20,7,5, y.shape[0]]\n",
        "lr=0.002\n",
        "epochs=2000\n",
        "p,l=model(x,y,lr,epochs,layers)\n",
        "\n",
        "# Plotting the cost over iterations\n",
        "\n",
        "t = np.arange(0, epochs)\n",
        "plt.plot(t, l)\n",
        "plt.xlabel('Epochs')\n",
        "plt.ylabel('Cost')\n",
        "plt.title('Training Cost over Epochs')\n",
        "plt.show()\n",
        "\n",
        "\n",
        "print( predict(X_test,Y_test,p,len(layers)))"
      ]
    },
    {
      "cell_type": "markdown",
      "source": [
        "# ADAM OPTIMIZER"
      ],
      "metadata": {
        "id": "xU3SpyfXHJ2I"
      }
    },
    {
      "cell_type": "code",
      "source": [
        "#Initialization\n",
        "def parameter_initiation_adam(layers):\n",
        "  parameters={}\n",
        "  for i in range(1,len(layers)):\n",
        "    parameters[f\"W{i}\"]=np.random.randn(layers[i], layers[i-1]) * np.sqrt(2/ layers[i-1])\n",
        "    parameters[f\"b{i}\"]=np.zeros((layers[i], 1))\n",
        "    # Initialize Adam optimizer terms (moment estimates and variance estimates)\n",
        "    parameters[f\"MW{i}\"]=np.zeros((layers[i], layers[i-1]))\n",
        "    parameters[f\"VW{i}\"]=np.zeros((layers[i], layers[i-1]))\n",
        "    parameters[f\"Mb{i}\"]=np.zeros((layers[i], 1))\n",
        "    parameters[f\"Vb{i}\"]=np.zeros((layers[i], 1))\n",
        "  return parameters\n",
        "\n",
        "\n",
        "def forwardprop(X,parameters,layers_len ):\n",
        "  cache={}\n",
        "  cache[f\"A{1}\"]=X\n",
        "  for i in range(1,layers_len):\n",
        "    W=parameters[f\"W{i}\"]\n",
        "    b=parameters[f\"b{i}\"]\n",
        "    A=cache[f\"A{i}\"]\n",
        "    Z=np.dot(W,A)+b\n",
        "    cache[f\"Z{i+1}\"]=Z\n",
        "    if i==layers_len-1:\n",
        "      A=sigmoid(Z)\n",
        "    else:\n",
        "      A=relu(Z)\n",
        "    cache[f\"A{i+1}\"]=A\n",
        "    #print(cache)\n",
        "  return cache\n",
        "\n",
        "\n",
        "def backprop(cache,parameters,layers_len,Y):\n",
        "  gradients={}\n",
        "  for i in reversed(range(2,layers_len+1)):\n",
        "    if i==layers_len:\n",
        "      dZ=cache[f\"A{i}\"]-Y\n",
        "    else:\n",
        "      dA=np.dot(parameters[f\"W{i}\"].T,dZ)\n",
        "      dZ=dA*relu_derivative(cache[f\"Z{i}\"])\n",
        "\n",
        "    dW=np.dot(dZ,cache[f\"A{i-1}\"].T)/m\n",
        "    db=np.sum(dZ,axis=1,keepdims=True)/m\n",
        "\n",
        "    gradients[f\"dW{i-1}\"]=dW\n",
        "    gradients[f\"db{i-1}\"]=db\n",
        "  return gradients\n",
        "\n",
        "#Adam Optimizer\n",
        "import numpy as np\n",
        "\n",
        "def update_adam(parameters, gradients, lr, beta_1, beta_2, epoch):\n",
        "    L = len(parameters) // 6\n",
        "    for i in range(1, L + 1):\n",
        "        # Update first moment estimate (MW, Mb)\n",
        "        parameters[f\"MW{i}\"] = beta_1 * parameters[f\"MW{i}\"] + (1 - beta_1) * gradients[f\"dW{i}\"]\n",
        "        parameters[f\"Mb{i}\"] = beta_1 * parameters[f\"Mb{i}\"] + (1 - beta_1) * gradients[f\"db{i}\"]\n",
        "        # Update second moment estimate (VW, Vb)\n",
        "        parameters[f\"VW{i}\"] = beta_2 * parameters[f\"VW{i}\"] + (1 - beta_2) * (gradients[f\"dW{i}\"] ** 2)\n",
        "        parameters[f\"Vb{i}\"] = beta_2 * parameters[f\"Vb{i}\"] + (1 - beta_2) * (gradients[f\"db{i}\"] ** 2)\n",
        "        # Compute bias-corrected moment estimates\n",
        "        MW_corrected = parameters[f\"MW{i}\"] / (1 - beta_1 ** epoch)\n",
        "        Mb_corrected = parameters[f\"Mb{i}\"] / (1 - beta_1 ** epoch)\n",
        "        VW_corrected = parameters[f\"VW{i}\"] / (1 - beta_2 ** epoch)\n",
        "        Vb_corrected = parameters[f\"Vb{i}\"] / (1 - beta_2 ** epoch)\n",
        "        # Update parameters\n",
        "        parameters[f\"W{i}\"] -= lr * MW_corrected / (np.sqrt(VW_corrected) + 1e-8)\n",
        "        parameters[f\"b{i}\"] -= lr * Mb_corrected / (np.sqrt(Vb_corrected) + 1e-8)\n",
        "\n",
        "    return parameters\n",
        "\n",
        "\n",
        "# Cost function (cross-entropy loss) with epsilon to avoid log(0) or log(1)\n",
        "def cost(Y_pred, Y, epsilon=1e-9):\n",
        "    Y_pred = np.clip(Y_pred, epsilon, 1 - epsilon)  # Ensures a is between epsilon and 1-epsilon\n",
        "    return -np.sum(Y * np.log(Y_pred) + (1 - Y) * np.log(1 - Y_pred)) / Y.shape[1]\n",
        "\n",
        "\n",
        "def model(X,Y,lr,epochs,layers):\n",
        "  parameters=parameter_initiation_adam(layers)\n",
        "  layers_len=len(layers)\n",
        "  loss=[]\n",
        "  for epoch in range(epochs):\n",
        "    cache=forwardprop(X,parameters,layers_len)\n",
        "    Y_pred=cache[f\"A{layers_len}\"]\n",
        "    loss_epoch=cost(Y_pred, Y, epsilon=1e-9)\n",
        "    loss.append(loss_epoch)\n",
        "    grads=backprop(cache,parameters,layers_len,Y)\n",
        "    parameters=update_adam(parameters, grads, lr, 0.4, 0.4, epoch+1)\n",
        "    iter=epochs//10\n",
        "    if epoch % iter == 0:\n",
        "           #print(f\"Iteration {epoch}, Cost: {loss_epoch:.4f}\")\n",
        "            train_acc = predict(X, Y, parameters, layers_len)\n",
        "            test_acc = predict(X_test, Y_test, parameters, layers_len)\n",
        "            print(f\"Epoch {epoch}, Loss: {loss_epoch:.4f}, Train Acc: {train_acc}, Test Acc: {test_acc}\")\n",
        "  return parameters,loss\n",
        "\n",
        "\n",
        "\n",
        "def predict (X1,Y1,parameters,layers_len):\n",
        "  cache=forwardprop(X1,parameters,layers_len)\n",
        "  y1_pred=cache[f\"A{layers_len}\"]\n",
        "  y1_pred=np.where(y1_pred>0.5,1,0)\n",
        "  acc=np.sum(Y1==y1_pred)/Y1.shape[1]\n",
        "  return np.round(acc,2)\n",
        "\n",
        "\n",
        "layers=[x.shape[0], 20,7,5, y.shape[0]]\n",
        "lr=0.0001\n",
        "epochs=1000\n",
        "p,l=model(x,y,lr,epochs,layers)\n",
        "\n",
        "# Plotting the cost over iterations\n",
        "\n",
        "t = np.arange(0, epochs)\n",
        "plt.plot(t, l)\n",
        "plt.xlabel('Epochs')\n",
        "plt.ylabel('Cost')\n",
        "plt.title('Training Cost over Epochs')\n",
        "plt.show()\n",
        "\n",
        "\n",
        "print( predict(X_test,Y_test,p,len(layers)))"
      ],
      "metadata": {
        "colab": {
          "base_uri": "https://localhost:8080/",
          "height": 663
        },
        "id": "mmHpc9_ZG-Zr",
        "outputId": "9fbb9061-0101-44e0-f6a7-ebf86a650b33"
      },
      "execution_count": null,
      "outputs": [
        {
          "output_type": "stream",
          "name": "stdout",
          "text": [
            "Epoch 0, Loss: 0.7355, Train Acc: 0.45, Test Acc: 0.6\n",
            "Epoch 100, Loss: 0.5158, Train Acc: 0.76, Test Acc: 0.48\n",
            "Epoch 200, Loss: 0.4016, Train Acc: 0.83, Test Acc: 0.54\n",
            "Epoch 300, Loss: 0.3000, Train Acc: 0.91, Test Acc: 0.62\n",
            "Epoch 400, Loss: 0.1673, Train Acc: 0.97, Test Acc: 0.68\n",
            "Epoch 500, Loss: 0.1178, Train Acc: 0.99, Test Acc: 0.72\n",
            "Epoch 600, Loss: 0.0801, Train Acc: 1.0, Test Acc: 0.72\n",
            "Epoch 700, Loss: 0.0579, Train Acc: 1.0, Test Acc: 0.68\n",
            "Epoch 800, Loss: 0.0320, Train Acc: 1.0, Test Acc: 0.7\n",
            "Epoch 900, Loss: 0.0224, Train Acc: 1.0, Test Acc: 0.7\n"
          ]
        },
        {
          "output_type": "display_data",
          "data": {
            "text/plain": [
              "<Figure size 640x480 with 1 Axes>"
            ],
            "image/png": "[encoded data removed]"
          },
          "metadata": {}
        },
        {
          "output_type": "stream",
          "name": "stdout",
          "text": [
            "0.66\n"
          ]
        }
      ]
    },
    {
      "cell_type": "markdown",
      "source": [
        "# Drop_out Regularization #"
      ],
      "metadata": {
        "id": "N0PeH_7HME7b"
      }
    },
    {
      "cell_type": "code",
      "execution_count": null,
      "metadata": {
        "id": "xqgWIZem-oyP",
        "colab": {
          "base_uri": "https://localhost:8080/"
        },
        "outputId": "65564963-a0dc-4038-b55a-4d36a250ca5a"
      },
      "outputs": [
        {
          "output_type": "stream",
          "name": "stdout",
          "text": [
            "\n",
            "iter:0 \t cost: 0.71 \t train_acc:0.34 \t test_acc:0.66\n",
            "\n",
            "iter:200 \t cost: 0.61 \t train_acc:0.67 \t test_acc:0.34\n",
            "\n",
            "iter:400 \t cost: 0.57 \t train_acc:0.68 \t test_acc:0.34\n",
            "\n",
            "iter:600 \t cost: 0.52 \t train_acc:0.72 \t test_acc:0.4\n",
            "\n",
            "iter:800 \t cost: 0.5 \t train_acc:0.81 \t test_acc:0.54\n",
            "\n",
            "iter:1000 \t cost: 0.46 \t train_acc:0.81 \t test_acc:0.58\n",
            "\n",
            "iter:1200 \t cost: 0.42 \t train_acc:0.87 \t test_acc:0.66\n",
            "\n",
            "iter:1400 \t cost: 0.38 \t train_acc:0.91 \t test_acc:0.64\n",
            "\n",
            "iter:1600 \t cost: 0.36 \t train_acc:0.98 \t test_acc:0.74\n",
            "\n",
            "iter:1800 \t cost: 0.35 \t train_acc:0.98 \t test_acc:0.72\n"
          ]
        }
      ],
      "source": [
        "#Initialization drop_out Regularization\n",
        "\n",
        "def parameter_initiation(layers):\n",
        "  parameters={}\n",
        "  for i in range(1,len(layers)):\n",
        "    parameters[f\"W{i}\"]=np.random.randn(layers[i], layers[i-1]) * np.sqrt(2/ layers[i-1])\n",
        "    parameters[f\"b{i}\"]=np.zeros((layers[i], 1))\n",
        "  return parameters\n",
        "\n",
        "def forwardprop(X,parameters,layers_len,keep_rate ):\n",
        "  cache={}\n",
        "  cache[f\"A{1}\"]=X\n",
        "  Drop_out={}\n",
        "\n",
        "  for i in range(1,layers_len):\n",
        "    W=parameters[f\"W{i}\"]\n",
        "    b=parameters[f\"b{i}\"]\n",
        "    A=cache[f\"A{i}\"]\n",
        "    Z=np.dot(W,A)+b\n",
        "    cache[f\"Z{i+1}\"]=Z\n",
        "    if i==layers_len-1:\n",
        "      A=sigmoid(Z)\n",
        "    else:\n",
        "      A=relu(Z)\n",
        "      Drop_out[f\"D{i+1}\"]=np.random.rand(A.shape[0],A.shape[1])<keep_rate\n",
        "      A=A*Drop_out[f\"D{i+1}\"]\n",
        "    cache[f\"A{i+1}\"]=A\n",
        "    #print(cache)\n",
        "  return cache,Drop_out\n",
        "\n",
        "def backprop(cache,parameters,layers_len,Y,Drop_out,keep_rate):\n",
        "  gradients={}\n",
        "  for i in reversed(range(2,layers_len+1)):\n",
        "    if i==layers_len:\n",
        "      dZ=cache[f\"A{i}\"]-Y\n",
        "    else:\n",
        "      dA=np.dot(parameters[f\"W{i}\"].T,dZ)\n",
        "      dA=dA*Drop_out[f\"D{i}\"]/keep_rate\n",
        "      dZ=dA*relu_derivative(cache[f\"Z{i}\"])\n",
        "\n",
        "    dW=np.dot(dZ,cache[f\"A{i-1}\"].T)/m\n",
        "    db=np.sum(dZ,axis=1,keepdims=True)/m\n",
        "\n",
        "    gradients[f\"dW{i-1}\"]=dW\n",
        "    gradients[f\"db{i-1}\"]=db\n",
        "  return gradients\n",
        "\n",
        "\n",
        "def Update(parameters,gradients,lr):\n",
        "  L=len(parameters)//2\n",
        "  for i in range(1,L+1):\n",
        "    parameters[f\"W{i}\"]=parameters[f\"W{i}\"]-lr*gradients[f\"dW{i}\"]\n",
        "    parameters[f\"b{i}\"]=parameters[f\"b{i}\"]-lr*gradients[f\"db{i}\"]\n",
        "  return parameters\n",
        "\n",
        "# Cost function (cross-entropy loss) with epsilon to avoid log(0) or log(1)\n",
        "def cost(Y_pred, Y, epsilon=1e-9):\n",
        "    Y_pred = np.clip(Y_pred, epsilon, 1 - epsilon)  # Ensures a is between epsilon and 1-epsilon\n",
        "    return -np.sum(Y * np.log(Y_pred) + (1 - Y) * np.log(1 - Y_pred)) / Y.shape[1]\n",
        "\n",
        "def model(X,Y,lr,epochs,layers,keep_rate):\n",
        "  parameters=parameter_initiation(layers)\n",
        "  layers_len=len(layers)\n",
        "  loss=[]\n",
        "  for epoch in range(epochs):\n",
        "    cache,Drop_out=forwardprop(X,parameters,layers_len,keep_rate)\n",
        "    Y_pred=cache[f\"A{layers_len}\"]\n",
        "    loss_epoch=cost(Y_pred, Y, epsilon=1e-9)\n",
        "    loss.append(loss_epoch)\n",
        "    grads=backprop(cache,parameters,layers_len,Y,Drop_out,keep_rate)\n",
        "    parameters=Update(parameters,grads,lr)\n",
        "    iter=epochs//10\n",
        "    if epoch % iter == 0:\n",
        "           #print(f\"Iteration {epoch}, Cost: {loss_epoch:.4f}\")\n",
        "           print(\"\\niter:{} \\t cost: {} \\t train_acc:{} \\t test_acc:{}\".format(epoch, np.round(loss_epoch, 2), predict(X, Y, parameters,layers_len), predict(X_test, Y_test, parameters,layers_len)))\n",
        "  return parameters,loss\n",
        "\n",
        "def predict (X1,Y1,parameters,layers_len):\n",
        "  cache,Drop_out=forwardprop(X1,parameters,layers_len,1)\n",
        "  y1_pred=cache[f\"A{len(layers)}\"]\n",
        "  y1_pred=np.where(y1_pred>=0.5,1,0)\n",
        "  acc=np.sum(Y1==y1_pred)/Y1.shape[1]\n",
        "  return np.round(acc,2)\n",
        "\n",
        "\n",
        "layers=[x.shape[0], 40, 14, 6, y.shape[0]]\n",
        "lr=0.002\n",
        "epochs=2000\n",
        "p,l=model(x,y,lr,epochs,layers,keep_rate=0.8)"
      ]
    },
    {
      "cell_type": "markdown",
      "source": [
        "# DROP_OUT REG with ADAM"
      ],
      "metadata": {
        "id": "UphM5cLqVDRQ"
      }
    },
    {
      "cell_type": "code",
      "source": [
        "def parameter_initiation_adam(layers):\n",
        "  parameters={}\n",
        "  for i in range(1,len(layers)):\n",
        "    parameters[f\"W{i}\"]=np.random.randn(layers[i], layers[i-1]) * np.sqrt(2/ layers[i-1])\n",
        "    parameters[f\"b{i}\"]=np.zeros((layers[i], 1))\n",
        "    # Initialize Adam optimizer terms (moment estimates and variance estimates)\n",
        "    parameters[f\"MW{i}\"]=np.zeros((layers[i], layers[i-1]))\n",
        "    parameters[f\"VW{i}\"]=np.zeros((layers[i], layers[i-1]))\n",
        "    parameters[f\"Mb{i}\"]=np.zeros((layers[i], 1))\n",
        "    parameters[f\"Vb{i}\"]=np.zeros((layers[i], 1))\n",
        "  return parameters"
      ],
      "metadata": {
        "id": "7al7UMBO_5m6"
      },
      "execution_count": null,
      "outputs": []
    },
    {
      "cell_type": "code",
      "execution_count": null,
      "metadata": {
        "id": "JIKByq2x_k20"
      },
      "outputs": [],
      "source": [
        "def forwardprop(X,parameters,layers_len,keep_rate ):\n",
        "  cache={}\n",
        "  cache[f\"A{1}\"]=X\n",
        "  Drop_out={}\n",
        "\n",
        "  for i in range(1,layers_len):\n",
        "    W=parameters[f\"W{i}\"]\n",
        "    b=parameters[f\"b{i}\"]\n",
        "    A=cache[f\"A{i}\"]\n",
        "    Z=np.dot(W,A)+b\n",
        "    cache[f\"Z{i+1}\"]=Z\n",
        "    if i==layers_len-1:\n",
        "      A=sigmoid(Z)\n",
        "    else:\n",
        "      A=relu(Z)\n",
        "      Drop_out[f\"D{i+1}\"]=np.random.rand(A.shape[0],A.shape[1])<keep_rate\n",
        "      A=A*Drop_out[f\"D{i+1}\"]\n",
        "    cache[f\"A{i+1}\"]=A\n",
        "    #print(cache)\n",
        "  return cache,Drop_out\n",
        "\n",
        "\n"
      ]
    },
    {
      "cell_type": "code",
      "execution_count": null,
      "metadata": {
        "id": "9sl_DuMtDWdA"
      },
      "outputs": [],
      "source": [
        "def backprop(cache,parameters,layers_len,Y,Drop_out,keep_rate):\n",
        "  gradients={}\n",
        "  for i in reversed(range(2,layers_len+1)):\n",
        "    if i==layers_len:\n",
        "      dZ=cache[f\"A{i}\"]-Y\n",
        "    else:\n",
        "      dA=np.dot(parameters[f\"W{i}\"].T,dZ)\n",
        "      dA=dA*Drop_out[f\"D{i}\"]/keep_rate\n",
        "      dZ=dA*relu_derivative(cache[f\"Z{i}\"])\n",
        "\n",
        "    dW=np.dot(dZ,cache[f\"A{i-1}\"].T)/m\n",
        "    db=np.sum(dZ,axis=1,keepdims=True)/m\n",
        "\n",
        "    gradients[f\"dW{i-1}\"]=dW\n",
        "    gradients[f\"db{i-1}\"]=db\n",
        "  return gradients\n",
        "\n",
        "\n"
      ]
    },
    {
      "cell_type": "code",
      "source": [
        "#Adam Optimizer\n",
        "import numpy as np\n",
        "\n",
        "def update_adam(parameters, gradients, lr, beta_1, beta_2, epoch):\n",
        "    L = len(parameters) // 6\n",
        "    for i in range(1, L + 1):\n",
        "        # Update first moment estimate (MW, Mb)\n",
        "        parameters[f\"MW{i}\"] = beta_1 * parameters[f\"MW{i}\"] + (1 - beta_1) * gradients[f\"dW{i}\"]\n",
        "        parameters[f\"Mb{i}\"] = beta_1 * parameters[f\"Mb{i}\"] + (1 - beta_1) * gradients[f\"db{i}\"]\n",
        "        # Update second moment estimate (VW, Vb)\n",
        "        parameters[f\"VW{i}\"] = beta_2 * parameters[f\"VW{i}\"] + (1 - beta_2) * (gradients[f\"dW{i}\"] ** 2)\n",
        "        parameters[f\"Vb{i}\"] = beta_2 * parameters[f\"Vb{i}\"] + (1 - beta_2) * (gradients[f\"db{i}\"] ** 2)\n",
        "        # Compute bias-corrected moment estimates\n",
        "        MW_corrected = parameters[f\"MW{i}\"] / (1 - beta_1 ** epoch)\n",
        "        Mb_corrected = parameters[f\"Mb{i}\"] / (1 - beta_1 ** epoch)\n",
        "        VW_corrected = parameters[f\"VW{i}\"] / (1 - beta_2 ** epoch)\n",
        "        Vb_corrected = parameters[f\"Vb{i}\"] / (1 - beta_2 ** epoch)\n",
        "        # Update parameters\n",
        "        parameters[f\"W{i}\"] -= lr * MW_corrected / (np.sqrt(VW_corrected) + 1e-8)\n",
        "        parameters[f\"b{i}\"] -= lr * Mb_corrected / (np.sqrt(Vb_corrected) + 1e-8)\n",
        "\n",
        "    return parameters\n"
      ],
      "metadata": {
        "id": "9XVUtp0YAueb"
      },
      "execution_count": null,
      "outputs": []
    },
    {
      "cell_type": "code",
      "execution_count": null,
      "metadata": {
        "id": "SCghYWhgMpv1"
      },
      "outputs": [],
      "source": [
        "# Cost function (cross-entropy loss) with epsilon to avoid log(0) or log(1)\n",
        "def cost(Y_pred, Y, epsilon=1e-9):\n",
        "    Y_pred = np.clip(Y_pred, epsilon, 1 - epsilon)  # Ensures a is between epsilon and 1-epsilon\n",
        "    return -np.sum(Y * np.log(Y_pred) + (1 - Y) * np.log(1 - Y_pred)) / Y.shape[1]"
      ]
    },
    {
      "cell_type": "code",
      "source": [
        "def model(X,Y,lr,epochs,layers,keep_rate):\n",
        "  parameters=parameter_initiation_adam(layers)\n",
        "  layers_len=len(layers)\n",
        "  loss=[]\n",
        "  for epoch in range(epochs):\n",
        "    cache,Drop_out=forwardprop(X,parameters,layers_len,keep_rate)\n",
        "    Y_pred=cache[f\"A{layers_len}\"]\n",
        "    loss_epoch=cost(Y_pred, Y, epsilon=1e-9)\n",
        "    loss.append(loss_epoch)\n",
        "    grads=backprop(cache,parameters,layers_len,Y,Drop_out,keep_rate)\n",
        "    parameters=update_adam(parameters, grads, lr, 0.9,0.95, epoch+1)\n",
        "    iter=epochs//10\n",
        "    if epoch % iter == 0:\n",
        "           #print(f\"Iteration {epoch}, Cost: {loss_epoch:.4f}\")\n",
        "           print(\"\\niter:{} \\t cost: {} \\t train_acc:{} \\t test_acc:{}\".format(epoch, np.round(loss_epoch, 2), predict(X, Y, parameters,layers_len), predict(X_test, Y_test, parameters,layers_len)))\n",
        "  return parameters,loss"
      ],
      "metadata": {
        "id": "ujaJA_zEUOq7"
      },
      "execution_count": null,
      "outputs": []
    },
    {
      "cell_type": "code",
      "execution_count": null,
      "metadata": {
        "id": "9-dIHN8_6ax2"
      },
      "outputs": [],
      "source": [
        "def predict (X1,Y1,parameters,layers_len):\n",
        "  cache,Drop_out=forwardprop(X1,parameters,layers_len,1)\n",
        "  y1_pred=cache[f\"A{len(layers)}\"]\n",
        "  y1_pred=np.where(y1_pred>=0.5,1,0)\n",
        "  acc=np.sum(Y1==y1_pred)/Y1.shape[1]\n",
        "  return np.round(acc,2)"
      ]
    },
    {
      "cell_type": "code",
      "execution_count": null,
      "metadata": {
        "colab": {
          "base_uri": "https://localhost:8080/"
        },
        "id": "W2ZBd-MoQvBv",
        "outputId": "09964ece-1898-4eda-eb57-8e9ee99e1c04"
      },
      "outputs": [
        {
          "output_type": "stream",
          "name": "stdout",
          "text": [
            "\n",
            "iter:0 \t cost: 0.69 \t train_acc:0.66 \t test_acc:0.34\n",
            "\n",
            "iter:200 \t cost: 0.44 \t train_acc:0.84 \t test_acc:0.62\n",
            "\n",
            "iter:400 \t cost: 0.28 \t train_acc:1.0 \t test_acc:0.74\n",
            "\n",
            "iter:600 \t cost: 0.19 \t train_acc:1.0 \t test_acc:0.74\n",
            "\n",
            "iter:800 \t cost: 0.17 \t train_acc:1.0 \t test_acc:0.74\n",
            "\n",
            "iter:1000 \t cost: 0.12 \t train_acc:1.0 \t test_acc:0.72\n",
            "\n",
            "iter:1200 \t cost: 0.11 \t train_acc:1.0 \t test_acc:0.72\n",
            "\n",
            "iter:1400 \t cost: 0.09 \t train_acc:1.0 \t test_acc:0.72\n",
            "\n",
            "iter:1600 \t cost: 0.13 \t train_acc:1.0 \t test_acc:0.72\n",
            "\n",
            "iter:1800 \t cost: 0.08 \t train_acc:1.0 \t test_acc:0.72\n"
          ]
        }
      ],
      "source": [
        "layers=[x.shape[0], 40, 14, 6, y.shape[0]]\n",
        "lr=0.0002\n",
        "epochs=2000\n",
        "p,l=model(x,y,lr,epochs,layers,keep_rate=0.8)"
      ]
    },
    {
      "cell_type": "code",
      "execution_count": null,
      "metadata": {
        "colab": {
          "base_uri": "https://localhost:8080/",
          "height": 472
        },
        "id": "H6LgxPg4R3TN",
        "outputId": "39692b8e-5839-45ee-e791-fbbf13df33b1"
      },
      "outputs": [
        {
          "output_type": "display_data",
          "data": {
            "text/plain": [
              "<Figure size 640x480 with 1 Axes>"
            ],
            "image/png": "[encoded data removed]"
          },
          "metadata": {}
        }
      ],
      "source": [
        "# Plotting the cost over iterations\n",
        "\n",
        "t = np.arange(0, epochs)\n",
        "plt.plot(t, l)\n",
        "plt.xlabel('Epochs')\n",
        "plt.ylabel('Cost')\n",
        "plt.title('Training Cost over Epochs')\n",
        "plt.show()"
      ]
    },
    {
      "cell_type": "code",
      "execution_count": null,
      "metadata": {
        "id": "Up-oHbvwSvt5"
      },
      "outputs": [],
      "source": [
        "cache,Drop_out=forwardprop(X_test,p,len(layers),1)\n",
        "y_pred=cache[f\"A{len(layers)}\"]"
      ]
    },
    {
      "cell_type": "code",
      "execution_count": null,
      "metadata": {
        "colab": {
          "base_uri": "https://localhost:8080/"
        },
        "id": "cOFsqP9vTXT2",
        "outputId": "582261ce-e61f-4062-ae1e-8551234948f5"
      },
      "outputs": [
        {
          "output_type": "stream",
          "name": "stdout",
          "text": [
            "0.78\n"
          ]
        }
      ],
      "source": [
        "y_pred=np.where(y_pred>0.5,1,0)\n",
        "acc=np.sum(Y_test==y_pred)/Y_test.shape[1]\n",
        "print(acc)"
      ]
    }
  ],
  "metadata": {
    "colab": {
      "provenance": [],
      "authorship_tag": "ABX9TyPa2K4+9yNczcNH0GXlsTkJ",
      "include_colab_link": true
    },
    "kernelspec": {
      "display_name": "Python 3",
      "name": "python3"
    },
    "language_info": {
      "name": "python"
    }
  },
  "nbformat": 4,
  "nbformat_minor": 0
}