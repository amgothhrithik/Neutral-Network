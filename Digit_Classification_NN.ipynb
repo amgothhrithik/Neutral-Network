{
  "nbformat": 4,
  "nbformat_minor": 0,
  "metadata": {
    "colab": {
      "provenance": [],
      "authorship_tag": "ABX9TyNIHUFWqcvWX4sR17mliU7l",
      "include_colab_link": true
    },
    "kernelspec": {
      "name": "python3",
      "display_name": "Python 3"
    },
    "language_info": {
      "name": "python"
    }
  },
  "cells": [
    {
      "cell_type": "markdown",
      "metadata": {
        "id": "view-in-github",
        "colab_type": "text"
      },
      "source": [
        "<a href=\"https://colab.research.google.com/github/amgothhrithik/Neutral-Network/blob/main/Digit_Classification_NN.ipynb\" target=\"_parent\"><img src=\"https://colab.research.google.com/assets/colab-badge.svg\" alt=\"Open In Colab\"/></a>"
      ]
    },
    {
      "cell_type": "code",
      "execution_count": null,
      "metadata": {
        "id": "VMPUP742N45Q",
        "colab": {
          "base_uri": "https://localhost:8080/"
        },
        "outputId": "5fc13f62-8cb8-4353-fbbf-8dbe00b918ee"
      },
      "outputs": [
        {
          "output_type": "stream",
          "name": "stdout",
          "text": [
            "Mounted at /content/drive\n"
          ]
        }
      ],
      "source": [
        "from google.colab import drive\n",
        "drive.mount('/content/drive')\n",
        "\n"
      ]
    },
    {
      "cell_type": "code",
      "source": [
        "import pandas as pd\n",
        "\n",
        "\n",
        "# Load data\n",
        "train_x = '/content/drive/My Drive/Data/digit/train_X.csv'\n",
        "train_y = '/content/drive/My Drive/Data/digit/train_label.csv'\n",
        "\n",
        "df1 = pd.read_csv(train_x).values.T  # Transpose directly\n",
        "df2 = pd.read_csv(train_y).values.T"
      ],
      "metadata": {
        "id": "XuCuGT11psoS",
        "colab": {
          "base_uri": "https://localhost:8080/"
        },
        "outputId": "ee1e390b-ab3a-4fcc-c9f6-ecf7f43ae066"
      },
      "execution_count": null,
      "outputs": [
        {
          "output_type": "stream",
          "name": "stdout",
          "text": [
            "[[0 0 0 ... 0 0 0]\n",
            " [0 0 0 ... 0 0 0]\n",
            " [0 0 0 ... 0 0 0]\n",
            " ...\n",
            " [0 0 0 ... 0 0 0]\n",
            " [0 0 0 ... 0 0 0]\n",
            " [0 0 0 ... 0 0 0]]\n"
          ]
        }
      ]
    },
    {
      "cell_type": "code",
      "source": [
        "import numpy as np\n",
        "import random\n",
        "\n",
        "X =np.array(df1)\n",
        "Y =np.array(df2)\n",
        "print(\"shape of training set:X\",X.shape)\n",
        "print(\"shape of training set:Y\",Y.shape)\n",
        "\n",
        "m=np.random.permutation(X.shape[1])\n",
        "X=X[:,m]\n",
        "Y=Y[:,m]\n"
      ],
      "metadata": {
        "id": "WEARHPQaX2hV",
        "colab": {
          "base_uri": "https://localhost:8080/"
        },
        "outputId": "bad15974-225f-48e3-f66e-be2f2432d505"
      },
      "execution_count": null,
      "outputs": [
        {
          "output_type": "stream",
          "name": "stdout",
          "text": [
            "shape of training set:X (784, 999)\n",
            "shape of training set:Y (10, 999)\n"
          ]
        }
      ]
    },
    {
      "cell_type": "markdown",
      "source": [
        "# Sample Input"
      ],
      "metadata": {
        "id": "_qpfxIm7cjGC"
      }
    },
    {
      "cell_type": "code",
      "source": [
        "plt.imshow(X[:, 5].reshape(28, 28), cmap = 'gray')\n",
        "plt.show()"
      ],
      "metadata": {
        "colab": {
          "base_uri": "https://localhost:8080/",
          "height": 430
        },
        "id": "Z6TgPlxMa1eY",
        "outputId": "3ec68a0d-b824-4acc-b720-52b9df19769b"
      },
      "execution_count": null,
      "outputs": [
        {
          "output_type": "display_data",
          "data": {
            "text/plain": [
              "<Figure size 640x480 with 1 Axes>"
            ],
            "image/png": "[encoded data removed]"
          },
          "metadata": {}
        }
      ]
    },
    {
      "cell_type": "code",
      "source": [
        "import numpy as np\n",
        "#activation\n",
        "def sigmoid(z):\n",
        "  return 1/(1+np.exp(-z))\n",
        "def tanh(z):\n",
        "  return np.tanh(z)\n",
        "def smax(x):\n",
        "    x_exp = np.exp(x - np.max(x, axis=0, keepdims=True))\n",
        "    return x_exp / np.sum(x_exp, axis=0, keepdims=True)\n",
        "def ds(z):\n",
        "  return sigmoid(z)*(1-sigmoid(z))\n",
        "def dt(z):\n",
        "  return 1-np.power(tanh(z),2)\n",
        "\n"
      ],
      "metadata": {
        "id": "wrEnnKpHx8Ro"
      },
      "execution_count": null,
      "outputs": []
    },
    {
      "cell_type": "code",
      "source": [
        "#Forward Porpagation\n",
        "def fp(X,w1,w2,b1,b2):\n",
        "  z2=np.dot(w1,X)+b1\n",
        "  a2=np.tanh(z2)\n",
        "  z3=np.dot(w2,a2)+b2\n",
        "  a3=smax(z3)\n",
        "  return a3,z3,a2,z2\n",
        "\n"
      ],
      "metadata": {
        "id": "aSu15U_KyRcK"
      },
      "execution_count": null,
      "outputs": []
    },
    {
      "cell_type": "code",
      "source": [
        "#Cost Function\n",
        "def L(a3,Y,m):\n",
        "  return -np.sum(Y*np.log(a3))*(1/m)\n"
      ],
      "metadata": {
        "id": "6d9xCi_z8Omz"
      },
      "execution_count": null,
      "outputs": []
    },
    {
      "cell_type": "code",
      "source": [
        "#Back propagation\n",
        "def bp(a3,a2,Y,w2,z2,m):\n",
        "  dz3=(a3-Y)*(1/m)\n",
        "  dw2=np.dot(dz3,a2.T)\n",
        "  db2=np.sum(dz3,axis=1, keepdims = True)\n",
        "  #db2=db2.reshape(n3,1)\n",
        "  dz2=np.dot(w2.T,dz3)*dt(z2)\n",
        "  dw1=np.dot(dz2,X.T)\n",
        "  db1=np.sum(dz2,axis=1, keepdims = True)\n",
        "  #db1=db1.reshape(n2,1)\n",
        "  return dw2,db2,dw1,db1\n",
        "\n"
      ],
      "metadata": {
        "id": "SE86eDE-3_Uf"
      },
      "execution_count": null,
      "outputs": []
    },
    {
      "cell_type": "code",
      "source": [
        "#Initialzation\n",
        "import random\n",
        "n1 = X.shape[0]\n",
        "n2 = 1000\n",
        "n3 = Y.shape[0]\n",
        "w1 = np.random.randn(n2, n1) * np.sqrt(1 / n1)  # Xavier initialization\n",
        "w2 = np.random.randn(n3, n2) * np.sqrt(1 / n2)\n",
        "b1=np.zeros((n2,1))\n",
        "b2=np.zeros((n3,1))\n",
        "m=X.shape[1]"
      ],
      "metadata": {
        "id": "q5E6KdNLaMeg"
      },
      "execution_count": null,
      "outputs": []
    },
    {
      "cell_type": "code",
      "source": [
        "lr=0.02\n",
        "c=[]\n",
        "for i in range(150):\n",
        "  a3,z3,a2,z2=fp(X,w1,w2,b1,b2)\n",
        "  l=L(a3,Y,m)\n",
        "  c.append(l)\n",
        "  if i%10==0:\n",
        "    print(l)\n",
        "  dw2,db2,dw1,db1=bp(a3,a2,Y,w2,z2,m)\n",
        "\n",
        "  w2=w2-lr*dw2\n",
        "  b2=b2-lr*db2\n",
        "  w1=w1-lr*dw1\n",
        "  b1=b1-lr*db1"
      ],
      "metadata": {
        "colab": {
          "base_uri": "https://localhost:8080/"
        },
        "id": "ZTWlenNgHFuK",
        "outputId": "cb880e18-2e5c-414e-9cd7-bde9ac34e4fe"
      },
      "execution_count": null,
      "outputs": [
        {
          "output_type": "stream",
          "name": "stdout",
          "text": [
            "2.5235404006182454\n",
            "0.6699187857433186\n",
            "0.4135443571491381\n",
            "0.3174589604644036\n",
            "0.2646544026080715\n",
            "0.22898496929367565\n",
            "0.2023178858847776\n",
            "0.1821270644324817\n",
            "0.16599092674478616\n",
            "0.15237300735391052\n",
            "0.1409994003721126\n",
            "0.1308022104341534\n",
            "0.12216781367800157\n",
            "0.11466237955159368\n",
            "0.10814049845586987\n"
          ]
        }
      ]
    },
    {
      "cell_type": "code",
      "source": [
        "import matplotlib.pyplot as plt\n",
        "t = np.arange(0, 150)\n",
        "plt.plot(t, c)\n",
        "plt.show()"
      ],
      "metadata": {
        "colab": {
          "base_uri": "https://localhost:8080/",
          "height": 430
        },
        "id": "0frZRYt2Cc5Y",
        "outputId": "057fd6d2-5964-4e03-8bdb-59f9a8ea7541"
      },
      "execution_count": null,
      "outputs": [
        {
          "output_type": "display_data",
          "data": {
            "text/plain": [
              "<Figure size 640x480 with 1 Axes>"
            ],
            "image/png": "[encoded data removed]"
          },
          "metadata": {}
        }
      ]
    },
    {
      "cell_type": "code",
      "source": [
        "# Load test data\n",
        "test_x = '/content/drive/My Drive/Data/digit/test_X.csv'\n",
        "test_y = '/content/drive/My Drive/Data/digit/test_label.csv'\n",
        "\n",
        "X_test = pd.read_csv(test_x).values.T  # Transpose directly\n",
        "Y_test= pd.read_csv(test_y).values.T"
      ],
      "metadata": {
        "id": "b22ifxxCLFMO"
      },
      "execution_count": null,
      "outputs": []
    },
    {
      "cell_type": "code",
      "source": [
        "a3,z3,a2,z2=fp(X_test,w1,w2,b1,b2)"
      ],
      "metadata": {
        "id": "-Mf-o3I6Wgaz"
      },
      "execution_count": null,
      "outputs": []
    },
    {
      "cell_type": "code",
      "source": [
        "a_out = np.argmax(a3, 0)\n",
        "label=np.argmax(Y_test,0)\n"
      ],
      "metadata": {
        "id": "ybNYnbYQYoF4"
      },
      "execution_count": null,
      "outputs": []
    },
    {
      "cell_type": "code",
      "source": [
        "acc = np.mean(a_out == label)*100\n",
        "print(acc)"
      ],
      "metadata": {
        "colab": {
          "base_uri": "https://localhost:8080/"
        },
        "id": "AgssGks9ZhvI",
        "outputId": "429f36ea-8f87-4e82-ac19-9b045bf8121b"
      },
      "execution_count": null,
      "outputs": [
        {
          "output_type": "stream",
          "name": "stdout",
          "text": [
            "83.3810888252149\n"
          ]
        }
      ]
    }
  ]
}